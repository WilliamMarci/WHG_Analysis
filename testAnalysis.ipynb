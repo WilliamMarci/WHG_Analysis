{
 "cells": [
  {
   "cell_type": "code",
   "execution_count": 6,
   "id": "33a4439e",
   "metadata": {},
   "outputs": [],
   "source": [
    "# import uproot\n",
    "# import coffea\n",
    "import numpy as np\n",
    "import matplotlib.pyplot as plt\n",
    "import awkward as ak\n",
    "from coffea.nanoevents import NanoEventsFactory, DelphesSchema#, NanoAODSchema\n",
    "import pandas as pd\n",
    "import numpy as np\n",
    "import os"
   ]
  },
  {
   "cell_type": "code",
   "execution_count": 172,
   "id": "96351349",
   "metadata": {},
   "outputs": [],
   "source": [
    "import vector\n",
    "def packVector3D(pt,phi,eta):\n",
    "    vec3d = ak.Array(\n",
    "        {\n",
    "            \"rho\": pt,\n",
    "            \"phi\": phi,\n",
    "            \"eta\": eta,\n",
    "        },\n",
    "        with_name=\"Vector3D\"\n",
    "    )\n",
    "    return vec3d"
   ]
  },
  {
   "cell_type": "code",
   "execution_count": 173,
   "id": "94c06a5f",
   "metadata": {},
   "outputs": [],
   "source": [
    "# eventLHE =  NanoEventsFactory.from_root(\n",
    "#     \"samples/whg_lo_pp_vlh_decayed.root\",\n",
    "#     treepath=\"LHEF\",\n",
    "# ).events()"
   ]
  },
  {
   "cell_type": "code",
   "execution_count": null,
   "id": "b93862b2",
   "metadata": {},
   "outputs": [],
   "source": [
    "events = NanoEventsFactory.from_root(\n",
    "    # \"samples/whgbkg1_p.root\",\n",
    "    # \"samples/bbmasstest.root\",\n",
    "    # \"samples/btest.root\",\n",
    "    \"samples/whg_lo_pp_vlh_decay_dd.root\",\n",
    "    schemaclass=DelphesSchema,\n",
    "    treepath=\"Delphes\",\n",
    ").events()\n",
    "eve_dic={}\n",
    "for branch in events.fields:\n",
    "    eve_dic[branch] = events[branch]\n",
    "eve_ak = ak.Array(eve_dic)\n"
   ]
  },
  {
   "cell_type": "code",
   "execution_count": 7,
   "id": "fabcb2a8",
   "metadata": {},
   "outputs": [],
   "source": [
    "def readDelphes(name):\n",
    "    events = NanoEventsFactory.from_root(\n",
    "        name,\n",
    "        schemaclass=DelphesSchema,\n",
    "        treepath=\"Delphes\",\n",
    "    ).events()\n",
    "    return events"
   ]
  },
  {
   "cell_type": "code",
   "execution_count": 175,
   "id": "2e2f9ed7",
   "metadata": {},
   "outputs": [],
   "source": [
    "flavor=events[\"Jet\"].Flavor"
   ]
  },
  {
   "cell_type": "code",
   "execution_count": null,
   "id": "fab19f41",
   "metadata": {},
   "outputs": [],
   "source": [
    "Photon = ak.copy(events.Photon)\n",
    "Electron = ak.copy(events.Electron)\n",
    "# 确保两个数组都不为空\n",
    "has_photon = ak.num(Photon, axis=1) > 0\n",
    "has_electron = ak.num(Electron, axis=1) > 0\n",
    "has_both = has_photon & has_electron\n",
    "\n",
    "# 只对有 photon 和 electron 的事件计算\n",
    "photon_with_both = Photon[has_both]\n",
    "electron_with_both = Electron[has_both]\n",
    "\n",
    "if ak.sum(has_both) > 0:\n",
    "    photon_electron_pairs = ak.cartesian([photon_with_both, electron_with_both], axis=1)\n",
    "    delta_r_result = photon_electron_pairs['0'].delta_r(photon_electron_pairs['1'])\n",
    "    print(\"有效事件的 photon-electron delta_r:\")\n",
    "    print(delta_r_result)\n",
    "else:\n",
    "    print(\"没有同时包含 photon 和 electron 的事件\")\n"
   ]
  },
  {
   "cell_type": "code",
   "execution_count": null,
   "id": "9c75ba91",
   "metadata": {},
   "outputs": [
    {
     "name": "stdout",
     "output_type": "stream",
     "text": [
      "[[5, 4, 5, 2, 3, 21], [21, 5, 1, 4, 2, 5, ... 1, 2, 1, 2, 0, 21], [0, 5, 0, 4, 0, 3]]\n"
     ]
    }
   ],
   "source": [
    "print(flavor)"
   ]
  },
  {
   "cell_type": "code",
   "execution_count": null,
   "id": "9f90100b",
   "metadata": {},
   "outputs": [],
   "source": [
    "btag= events[\"Jet\"].BTag"
   ]
  },
  {
   "cell_type": "code",
   "execution_count": null,
   "id": "a6010fad",
   "metadata": {},
   "outputs": [
    {
     "name": "stdout",
     "output_type": "stream",
     "text": [
      "btag [[0, 0, 0, 0, 0, 0], [0, 0, 0, 0, 0, 0], ... 0, 0, 0, 0, 0, 0], [0, 0, 0, 0, 0, 0]]\n",
      "0\n"
     ]
    },
    {
     "data": {
      "text/plain": [
       "int"
      ]
     },
     "execution_count": 145,
     "metadata": {},
     "output_type": "execute_result"
    }
   ],
   "source": [
    "print(\"btag\",btag & 2)\n",
    "print(ak.sum(btag>1))\n",
    "type(btag[1][1])"
   ]
  },
  {
   "cell_type": "code",
   "execution_count": null,
   "id": "b313e867",
   "metadata": {},
   "outputs": [
    {
     "name": "stdout",
     "output_type": "stream",
     "text": [
      "[[0, 0, 0, 0, 0, 0], [0, 0, 0, 0, 0, 0], ... 0, 0, 0, 0, 0, 0], [0, 0, 0, 0, 0, 0]]\n"
     ]
    }
   ],
   "source": [
    "print((btag>>4)&1)"
   ]
  },
  {
   "cell_type": "code",
   "execution_count": null,
   "id": "13317493",
   "metadata": {},
   "outputs": [
    {
     "data": {
      "text/plain": [
       "['EFlowPhoton.offsets',\n",
       " 'EFlowPhoton',\n",
       " 'Photon.offsets',\n",
       " 'Photon',\n",
       " 'ScalarHT.offsets',\n",
       " 'ScalarHT',\n",
       " 'FatJet.offsets',\n",
       " 'FatJet',\n",
       " 'Tower.offsets',\n",
       " 'Tower',\n",
       " 'EFlowNeutralHadron.offsets',\n",
       " 'EFlowNeutralHadron',\n",
       " 'Weight.offsets',\n",
       " 'Weight',\n",
       " 'GenMissingET.offsets',\n",
       " 'GenMissingET',\n",
       " 'GenJet.offsets',\n",
       " 'GenJet',\n",
       " 'MissingET.offsets',\n",
       " 'MissingET',\n",
       " 'EFlowTrack.offsets',\n",
       " 'EFlowTrack',\n",
       " 'Particle.offsets',\n",
       " 'Particle',\n",
       " 'Track.offsets',\n",
       " 'Track',\n",
       " 'Muon.offsets',\n",
       " 'Muon',\n",
       " 'Electron.offsets',\n",
       " 'Electron',\n",
       " 'Jet.offsets',\n",
       " 'Jet',\n",
       " 'Event.offsets',\n",
       " 'Event']"
      ]
     },
     "execution_count": 147,
     "metadata": {},
     "output_type": "execute_result"
    }
   ],
   "source": [
    "events.fields"
   ]
  },
  {
   "cell_type": "markdown",
   "id": "70d3a413",
   "metadata": {},
   "source": [
    "some function usage examples"
   ]
  },
  {
   "cell_type": "code",
   "execution_count": null,
   "id": "a6943550",
   "metadata": {},
   "outputs": [
    {
     "name": "stdout",
     "output_type": "stream",
     "text": [
      "Enhanced mask functions loaded successfully!\n"
     ]
    }
   ],
   "source": [
    "def countItem(arr, item):\n",
    "    count = 0\n",
    "    for i in arr:\n",
    "        if i == item:\n",
    "            count += 1\n",
    "    return count\n",
    "import awkward as ak\n",
    "\n",
    "def mergeAndMasks(*masks):\n",
    "    \"\"\"Merge multiple awkward boolean masks with logical AND.\"\"\"\n",
    "    if len(masks) == 0:\n",
    "        raise ValueError(\"At least one mask is required\")\n",
    "    \n",
    "    merged_mask = masks[0]\n",
    "    for mask in masks[1:]:\n",
    "        merged_mask = merged_mask & mask\n",
    "    return merged_mask\n",
    "\n",
    "def mergeOrMasks(*masks):\n",
    "    \"\"\"OR-combine boolean masks.\"\"\"\n",
    "    if len(masks) == 0:\n",
    "        raise ValueError(\"At least one mask is required\")\n",
    "    \n",
    "    merged_mask = masks[0]\n",
    "    for mask in masks[1:]:\n",
    "        merged_mask = merged_mask | mask  # Use | instead of 'or' for element-wise operation\n",
    "    return merged_mask\n",
    "\n",
    "def mergeXorMasks(mask1, mask2):\n",
    "    \"\"\"\n",
    "    Merge two boolean masks using logical XOR operation.\n",
    "    Result is True when exactly one of the masks is True.\n",
    "    \n",
    "    Args:\n",
    "        mask1: First boolean awkward array\n",
    "        mask2: Second boolean awkward array\n",
    "        \n",
    "    Returns:\n",
    "        awkward array: Combined mask using XOR operation\n",
    "    \"\"\"\n",
    "    merged_mask = mask1 ^ mask2\n",
    "    return merged_mask\n",
    "\n",
    "# Additional utility functions for mask operations\n",
    "def mergeNotMask(mask):\n",
    "    \"\"\"Invert a boolean mask.\"\"\"\n",
    "    return ~mask\n",
    "\n",
    "def countPassingEvents(mask):\n",
    "    \"\"\"Count True entries in a mask.\"\"\"\n",
    "    return ak.sum(mask==True)\n",
    "\n",
    "def getEfficiency(mask, total_events=None):\n",
    "    \"\"\"Compute mask efficiency (passing/total).\"\"\"\n",
    "    passing = ak.sum(mask==True)\n",
    "    total = total_events if total_events is not None else len(mask)\n",
    "    return float(passing) / float(total)\n",
    "\n",
    "def combineMasks(masks_dict, operation='and'):\n",
    "    \"\"\"Combine named masks with AND/OR.\"\"\"\n",
    "    mask_list = list(masks_dict.values())\n",
    "    op = operation.lower()\n",
    "    if op == 'and':\n",
    "        return mergeAndMasks(*mask_list)\n",
    "    elif op == 'or':\n",
    "        return mergeOrMasks(*mask_list)\n",
    "    else:\n",
    "        raise ValueError(\"Operation must be 'and' or 'or'\")\n",
    "\n",
    "print(\"Enhanced mask functions loaded successfully!\")"
   ]
  },
  {
   "cell_type": "markdown",
   "id": "5d510bd5",
   "metadata": {},
   "source": [
    "Cuts define:"
   ]
  },
  {
   "cell_type": "code",
   "execution_count": null,
   "id": "f18c46a2",
   "metadata": {},
   "outputs": [],
   "source": [
    "def goodLepton(events, pt_cut=10.0, eta_cut=2.5):\n",
    "    \"\"\"\n",
    "    安全的轻子选择，只使用基本动力学变量\n",
    "    \"\"\"\n",
    "    # good_electron_mask = ak.zeros_like(events.event, dtype=bool)\n",
    "    # good_muon_mask = ak.zeros_like(events.event, dtype=bool)\n",
    "    \n",
    "    # 安全处理电子\n",
    "    if \"Electron\" in events.fields:\n",
    "        try:\n",
    "            electron_count = ak.num(events.Electron, axis=1)\n",
    "            if ak.max(electron_count) > 0:\n",
    "                e_pt = events.Electron.PT\n",
    "                e_eta = events.Electron.Eta\n",
    "                \n",
    "                e_cuts = (e_pt > pt_cut) & (np.abs(e_eta) < eta_cut)\n",
    "                good_electron_mask = e_cuts\n",
    "                print(f\"[GOODLEP] Processed {ak.sum(electron_count)} electrons successfully\")\n",
    "        except Exception as e:\n",
    "            print(f\"Skipping electrons due to error: {e}\")\n",
    "    \n",
    "    # 安全处理缪子\n",
    "    if \"Muon\" in events.fields:\n",
    "        try:\n",
    "            muon_count = ak.num(events.Muon, axis=1)\n",
    "            if ak.max(muon_count) > 0:\n",
    "                mu_pt = events.Muon.PT\n",
    "                mu_eta = events.Muon.Eta\n",
    "                \n",
    "                mu_cuts = (mu_pt > pt_cut) & (np.abs(mu_eta) < eta_cut)\n",
    "                good_muon_mask = mu_cuts\n",
    "                print(f\"[GOODLEP] Processed {ak.sum(muon_count)} muons successfully\")\n",
    "        except Exception as e:\n",
    "            print(f\"Skipping muons due to error: {e}\")\n",
    "    \n",
    "    return good_electron_mask, good_muon_mask\n",
    "\n",
    "def goodPhoton(events, pt_cut=0.0, eta_cut=2.5):\n",
    "    \"\"\" select Photon with |eta| < etacut(2.5) and PT > ptcut(10.0) \"\"\"\n",
    "    Photon = ak.copy(events.Photon)\n",
    "    exist_mask = ak.num(Photon, axis=1) > 0\n",
    "    ptcut = Photon.PT > pt_cut           # PT > 0 GeV\n",
    "    etacut = np.abs(Photon.Eta) < eta_cut  # |eta| < 2.5\n",
    "    good_photon_cut = ptcut & etacut\n",
    "    has_good_photon = ak.any(good_photon_cut, axis=1)\n",
    "    mask = exist_mask & has_good_photon\n",
    "    return mask"
   ]
  },
  {
   "cell_type": "code",
   "execution_count": null,
   "metadata": {},
   "outputs": [
    {
     "name": "stdout",
     "output_type": "stream",
     "text": [
      "Functions loaded successfully\n"
     ]
    }
   ],
   "source": [
    "def missptOverCut(events, cut):\n",
    "    # Check if MissingET.MET is greater than threshold\n",
    "    mask = events[\"MissingET\"].MET > cut\n",
    "    return mask\n",
    "\n",
    "def containBjet(events, num):\n",
    "    #Check if events contain exactly the specified number of b-tagged jets\n",
    "    Btag = events[\"Jet\"].BTag\n",
    "    btag_count = ak.sum(Btag == 1, axis=1)\n",
    "    mask = btag_count == num\n",
    "    return mask\n",
    "\n",
    "def containOverBjet(events, num):\n",
    "    #Check if events contain exactly the specified number of b-tagged jets\n",
    "    Btag = events[\"Jet\"].BTag\n",
    "    btag_count = ak.sum(Btag == 1, axis=1)\n",
    "    mask = btag_count >= num\n",
    "    return mask\n",
    "\n",
    "def countElectron(events):\n",
    "    #Count the number of electrons in each event (both positive and negative charges)\n",
    "    # Use ak.num to directly count electrons in each event\n",
    "    electron_count = ak.num(events[\"Electron\"], axis=1)\n",
    "    return electron_count\n",
    "\n",
    "def countMuon(events):\n",
    "    #Count the number of muons in each event (both positive and negative charges)\n",
    "    # Use ak.num to directly count muons in each event\n",
    "    muon_count = ak.num(events[\"Muon\"], axis=1)\n",
    "    return muon_count\n",
    "\n",
    "def leptonTrigger(events):\n",
    "    #Check if events have exactly 1 lepton (electron + muon total = 1)\n",
    "    electron_count = ak.num(events[\"Electron\"], axis=1)\n",
    "    muon_count = ak.num(events[\"Muon\"], axis=1)\n",
    "    total_lepton_count = electron_count + muon_count\n",
    "    mask = total_lepton_count == 1\n",
    "    return mask\n",
    "\n",
    "def singleLeptonTrigger(events):\n",
    "    # Check if events have exactly 1 good lepton (electron or muon)\n",
    "    good_electron_mask, good_muon_mask = goodLepton(events)\n",
    "    good_electron_count = ak.sum(good_electron_mask, axis=1)\n",
    "    good_muon_count = ak.sum(good_muon_mask, axis=1)\n",
    "    total_good_lepton_count = good_electron_count + good_muon_count\n",
    "    mask = total_good_lepton_count == 1\n",
    "    return mask\n",
    "\n",
    "def tightElectron(events, cut):\n",
    "    #Check if events have exactly 1 electron with PT > cut\n",
    "    electron_pt = events[\"Electron\"].PT\n",
    "    # Count electrons with PT > cut in each event\n",
    "    tight_electron_count = ak.sum(electron_pt > cut, axis=1)\n",
    "    mask = tight_electron_count == 1\n",
    "    return mask\n",
    "\n",
    "def tightMuon(events, cut):\n",
    "    # Check if events have exactly 1 muon with PT > cut\n",
    "    muon_pt = events[\"Muon\"].PT\n",
    "    # Count muons with PT > cut in each event\n",
    "    tight_muon_count = ak.sum(muon_pt > cut, axis=1)\n",
    "    mask = tight_muon_count == 1\n",
    "    return mask\n",
    "\n",
    "print(\"Functions loaded successfully\")\n"
   ]
  },
  {
   "cell_type": "code",
   "execution_count": null,
   "id": "c4e6c415",
   "metadata": {},
   "outputs": [
    {
     "name": "stdout",
     "output_type": "stream",
     "text": [
      "[GOODLEP] Processed 136 electrons successfully\n",
      "[GOODLEP] Processed 131 muons successfully\n",
      "Good Electron mask: [[], [], [], [], [], [], [], [], [], [], ... [], [], [], [], [], [], [], [], [], []]\n",
      "Good Muon mask: [[], [], [], [], [True], [True], [], [], ... [], [], [], [True], [], [], [], []]\n",
      "Good Photon mask: [False, False, True, True, False, True, ... True, False, False, True, True, True]\n",
      "0.528\n"
     ]
    }
   ],
   "source": [
    "goodElectron, goodMuon = goodLepton(events,pt_cut=0.0, eta_cut=1)\n",
    "goodPhotonMask = goodPhoton(events)\n",
    "print(\"Good Electron mask:\", goodElectron)\n",
    "print(\"Good Muon mask:\", goodMuon)\n",
    "print(\"Good Photon mask:\", goodPhotonMask)\n",
    "# plt.hist(ak.sum(goodElectron==True, axis=1))\n",
    "Photon = ak.copy(events.Photon)\n",
    "exist_mask = ak.num(Photon, axis=1) > 0\n",
    "print(getEfficiency(exist_mask))"
   ]
  },
  {
   "cell_type": "code",
   "execution_count": null,
   "id": "f6c35b4a",
   "metadata": {},
   "outputs": [
    {
     "name": "stdout",
     "output_type": "stream",
     "text": [
      "[GOODLEP] Processed 136 electrons successfully\n",
      "[GOODLEP] Processed 131 muons successfully\n",
      "Single lepton trigger mask: [False, False, False, False, True, True, ... False, True, False, False, False, False]\n",
      "Good photon mask: [False, False, True, True, False, True, ... True, False, False, True, True, True]\n",
      "11.5 %\n",
      "[False, False, False, False, True, False, False, False, False, False]\n"
     ]
    }
   ],
   "source": [
    "mask_signleLepton = singleLeptonTrigger(events)\n",
    "print(\"Single lepton trigger mask:\", mask_signleLepton)\n",
    "mask_photon = goodPhoton(events)\n",
    "print(\"Good photon mask:\", mask_photon)\n",
    "print(getEfficiency(mask_signleLepton & mask_photon)*100, \"%\")\n",
    "print((mask_signleLepton & mask_photon)[40:50])"
   ]
  },
  {
   "cell_type": "code",
   "execution_count": null,
   "id": "84d5c849",
   "metadata": {},
   "outputs": [],
   "source": [
    "# btag=events['Jet'].BTag\n",
    "# ak.num(btag, axis=1)\n",
    "# local_index = ak.local_index(btag)\n",
    "# combination"
   ]
  },
  {
   "cell_type": "code",
   "execution_count": null,
   "id": "2c0d7fc3",
   "metadata": {},
   "outputs": [],
   "source": [
    "def getWMass(events):\n",
    "    missMET = events[\"MissingET\"].MET\n",
    "    missPhi = events[\"MissingET\"].Phi\n",
    "    ###\n",
    "    # because we has limit lepton == 1, we just sum lepton PT and phi\n",
    "    ###\n",
    "    leptonPT = ak.sum(events[\"Electron\"].PT, axis=1) + ak.sum(events[\"Muon\"].PT, axis=1)\n",
    "    leptonPhi = ak.sum(events[\"Electron\"].Phi, axis=1) + ak.sum(events[\"Muon\"].Phi, axis=1)\n",
    "    ###\n",
    "    # Reconstruct the transverse mass of W boson\n",
    "    ###\n",
    "    W_mass = np.sqrt(2 * leptonPT * missMET * (1 - np.cos(leptonPhi - missPhi)))\n",
    "    return W_mass\n",
    "\n",
    "def getBBmass(events):\n",
    "    bjets = events[\"Jet\"][events[\"Jet\"].BTag == 1]\n",
    "    bjets = bjets[ak.argsort(bjets.PT, axis=1, ascending=False)]\n",
    "    leading2 = bjets[:, :2]\n",
    "    px = leading2.PT * np.cos(leading2.Phi)\n",
    "    py = leading2.PT * np.sin(leading2.Phi)\n",
    "    pz = leading2.PT * np.sinh(leading2.Eta)\n",
    "    E  = np.sqrt(leading2.Mass**2 + px**2 + py**2 + pz**2)\n",
    "    px_sum = ak.sum(px, axis=1)\n",
    "    py_sum = ak.sum(py, axis=1)\n",
    "    pz_sum = ak.sum(pz, axis=1)\n",
    "    E_sum  = ak.sum(E,  axis=1)\n",
    "    mass2 = E_sum**2 - px_sum**2 - py_sum**2 - pz_sum**2\n",
    "    bbmass = np.sqrt(np.maximum(mass2, 0))  # 防止负数开根号\n",
    "    return bbmass\n",
    "\n",
    "def getBBmassValid(events):\n",
    "    # select b-jets: BTag == 1, PT > 25, |eta| < 2.5\n",
    "    bjets = events[\"Jet\"][\n",
    "        (events[\"Jet\"].BTag == 1) & \n",
    "        (events[\"Jet\"].PT > 25) & \n",
    "        (np.abs(events[\"Jet\"].Eta) < 2.5)\n",
    "    ]\n",
    "    # 按 PT 降序排列（确保取到最高PT的b喷注）\n",
    "    bjets = bjets[ak.argsort(bjets.PT, axis=1, ascending=False)]\n",
    "    leading2 = bjets[:, :2]\n",
    "\n",
    "    px = leading2.PT * np.cos(leading2.Phi)\n",
    "    py = leading2.PT * np.sin(leading2.Phi)\n",
    "    pz = leading2.PT * np.sinh(leading2.Eta)\n",
    "    E = np.sqrt(leading2.Mass**2 + px**2 + py**2 + pz**2)\n",
    "\n",
    "    px_sum = ak.sum(px, axis=1)\n",
    "    py_sum = ak.sum(py, axis=1)\n",
    "    pz_sum = ak.sum(pz, axis=1)\n",
    "    E_sum = ak.sum(E, axis=1)\n",
    "\n",
    "    mass2 = E_sum**2 - px_sum**2 - py_sum**2 - pz_sum**2\n",
    "    bb_mass = np.sqrt(np.maximum(mass2, 0))\n",
    "    \n",
    "    return bb_mass    \n",
    "\n",
    "def getBBAmass(events):\n",
    "    bjets = events[\"Jet\"][events[\"Jet\"].BTag == 1]\n",
    "    bjets = bjets[ak.argsort(bjets.PT, axis=1, ascending=False)]\n",
    "    leading2 = bjets[:, :2]\n",
    "    photon = events[\"Photon\"]\n",
    "    px_a = photon.PT * np.cos(photon.Phi)\n",
    "    py_a = photon.PT * np.sin(photon.Phi)\n",
    "    pz_a = photon.PT * np.sinh(photon.Eta)\n",
    "    E_a  = np.sqrt(px_a**2 + py_a**2 + pz_a**2)  \n",
    "    px = leading2.PT * np.cos(leading2.Phi)\n",
    "    py = leading2.PT * np.sin(leading2.Phi)\n",
    "    pz = leading2.PT * np.sinh(leading2.Eta)\n",
    "    E  = np.sqrt(leading2.Mass**2 + px**2 + py**2 + pz**2)\n",
    "    px_sum = ak.sum(px, axis=1)\n",
    "    py_sum = ak.sum(py, axis=1)\n",
    "    pz_sum = ak.sum(pz, axis=1)\n",
    "    E_sum  = ak.sum(E,  axis=1)\n",
    "    # add photon four-vector components\n",
    "    px_sum = px_sum + ak.sum(px_a, axis=1)  \n",
    "    py_sum = py_sum + ak.sum(py_a, axis=1) \n",
    "    pz_sum = pz_sum + ak.sum(pz_a, axis=1)  \n",
    "    E_sum  = E_sum + ak.sum(E_a, axis=1)    \n",
    "    mass2 = E_sum**2 - px_sum**2 - py_sum**2 - pz_sum**2\n",
    "    bba_mass = np.sqrt(np.maximum(mass2, 0))  # 防止负数开根号\n",
    "    return bba_mass\n",
    "\n",
    "def getNjet(events):\n",
    "    # get the number of jets in each event\n",
    "    njet = ak.num(events[\"Jet\"].BTag, axis=1)\n",
    "    return njet\n",
    "    \n",
    "def fab(phi):\n",
    "    # ensure phi is in the range [-π, π]\n",
    "    phi = np.where(phi > np.pi, phi - 2 * np.pi, phi)\n",
    "    phi = np.where(phi < -np.pi, phi + 2 * np.pi, phi)\n",
    "    return np.abs(phi)\n",
    "\n",
    "def getDBjetDeltaSet(events):\n",
    "    ## get LO two b jet: Delta R, Delta Eta, and Delta Phi\n",
    "    bjets = events[\"Jet\"][events[\"Jet\"].BTag == 1]\n",
    "    bjets = bjets[ak.argsort(bjets.PT, axis=1, ascending=False)]\n",
    "    has_2bjets = ak.num(bjets, axis=1) >= 2\n",
    "    bjets_padded = ak.pad_none(bjets, 2, axis=1)\n",
    "    bjet1 = bjets_padded[:, 0]\n",
    "    bjet2 = bjets_padded[:, 1]\n",
    "    # Delta R\n",
    "    delta_r = ak.where(\n",
    "        has_2bjets,\n",
    "        bjet1.delta_r(bjet2),\n",
    "        np.nan\n",
    "    )\n",
    "    # Delta Eta\n",
    "    delta_eta = ak.where(\n",
    "        has_2bjets,\n",
    "        np.abs(bjet1.Eta - bjet2.Eta),\n",
    "        np.nan\n",
    "    )\n",
    "    # Delta Phi \n",
    "    delta_phi = ak.where(\n",
    "        has_2bjets,\n",
    "        fab(bjet1.Phi - bjet2.Phi),\n",
    "        np.nan\n",
    "    )\n",
    "    return delta_r, delta_eta, delta_phi\n",
    "\n",
    "def getPhotonEnergy(events, return_type='leading'):\n",
    "    ## get Photon energy based on the specified return type\n",
    "    photons = events[\"Photon\"]\n",
    "    \n",
    "    if return_type == 'all':\n",
    "        return photons.E\n",
    "    elif return_type == 'leading':\n",
    "        photons_sorted = photons[ak.argsort(photons.PT, axis=1, ascending=False)]\n",
    "        has_photons = ak.num(photons_sorted, axis=1) > 0\n",
    "        photons_padded = ak.pad_none(photons_sorted, 1, axis=1)\n",
    "        return ak.where(\n",
    "            has_photons,\n",
    "            photons_padded[:, 0].E,\n",
    "            np.nan\n",
    "        )\n",
    "    else:\n",
    "        total_energy = ak.sum(photons.E, axis=1)\n",
    "        return ak.fill_none(total_energy, 0.0)\n",
    "\n",
    "def getHiggsFromDBjet(events):\n",
    "    ## reconstruct Higgs boson from two leading b-jets\n",
    "    bjets = events[\"Jet\"][events[\"Jet\"].BTag == 1]\n",
    "    bjets = bjets[ak.argsort(bjets.PT, axis=1, ascending=False)]\n",
    "    has_2bjets = ak.num(bjets, axis=1) >= 2\n",
    "    leading2 = ak.pad_none(bjets, 2, axis=1)[:, :2]\n",
    "    \n",
    "    px = leading2.PT * np.cos(leading2.Phi)\n",
    "    py = leading2.PT * np.sin(leading2.Phi)\n",
    "    pz = leading2.PT * np.sinh(leading2.Eta)\n",
    "    E  = np.sqrt(leading2.Mass**2 + px**2 + py**2 + pz**2)\n",
    "    \n",
    "    px_sum = ak.sum(px, axis=1)\n",
    "    py_sum = ak.sum(py, axis=1)\n",
    "    pz_sum = ak.sum(pz, axis=1)\n",
    "    E_sum  = ak.sum(E,  axis=1)\n",
    "\n",
    "    mass2 = E_sum**2 - px_sum**2 - py_sum**2 - pz_sum**2\n",
    "    higgs_mass = np.sqrt(np.maximum(mass2, 0))\n",
    "    higgs_pt = np.sqrt(px_sum**2 + py_sum**2)\n",
    "    higgs_eta = np.arcsinh(pz_sum / higgs_pt)\n",
    "    higgs_phi = np.arctan2(py_sum, px_sum)\n",
    "\n",
    "    higgs = ak.zip({\n",
    "        \"PT\": ak.where(has_2bjets, higgs_pt, np.nan),\n",
    "        \"Eta\": ak.where(has_2bjets, higgs_eta, np.nan),\n",
    "        \"Phi\": ak.where(has_2bjets, higgs_phi, np.nan),\n",
    "        \"Mass\": ak.where(has_2bjets, higgs_mass, np.nan),\n",
    "        \"E\": ak.where(has_2bjets, E_sum, np.nan),\n",
    "        \"PX\": ak.where(has_2bjets, px_sum, np.nan),\n",
    "        \"PY\": ak.where(has_2bjets, py_sum, np.nan),\n",
    "        \"PZ\": ak.where(has_2bjets, pz_sum, np.nan)\n",
    "    }, with_name=\"Momentum4D\")\n",
    "    \n",
    "    return higgs\n",
    "\n",
    "def deltaR(obj1_eta, obj1_phi, obj2_eta, obj2_phi):\n",
    "    \"\"\"Calculate delta R between two objects\"\"\"\n",
    "    delta_eta = obj1_eta - obj2_eta\n",
    "    delta_phi = fab(obj1_phi - obj2_phi)\n",
    "    \n",
    "    return np.sqrt(delta_eta**2 + delta_phi**2)\n",
    "def getHiggsPhotonDeltaR(events):\n",
    "    ## calculate the delta R between Higgs and leading photon\n",
    "    higgs = getHiggsFromDBjet(events)\n",
    "    photons = events[\"Photon\"]\n",
    "\n",
    "    has_photons = ak.num(photons, axis=1) > 0\n",
    "    has_higgs = ~ak.is_none(higgs.PT) & ~np.isnan(higgs.PT)\n",
    "\n",
    "    photons_padded = ak.pad_none(photons, 1, axis=1)\n",
    "    photon1 = photons_padded[:, 0]\n",
    "    delta_r = ak.where(\n",
    "        has_photons & has_higgs,\n",
    "        deltaR(higgs.Eta, higgs.Phi, photon1.Eta, photon1.Phi),\n",
    "        np.nan\n",
    "    )\n",
    "    return delta_r\n",
    "\n",
    "print(\"Utility functions loaded successfully!\") "
   ]
  },
  {
   "cell_type": "markdown",
   "id": "e4eb2079",
   "metadata": {},
   "source": [
    "cut Events"
   ]
  },
  {
   "cell_type": "code",
   "execution_count": null,
   "id": "18232a19",
   "metadata": {},
   "outputs": [],
   "source": [
    "\n",
    "def eventCut(events, name=\"default\"):\n",
    "    maskPhoton = goodPhoton(events)\n",
    "    maskmisspt = missptOverCut(events, 30)\n",
    "    maskBjets = containOverBjet(events, 1)\n",
    "    maskLepTrig = leptonTrigger(events)\n",
    "    \n",
    "    maskElec = tightElectron(events, 30)\n",
    "    maskMuon = tightMuon(events, 26)\n",
    "    maskLepPT = mergeOrMasks(maskElec, maskMuon)\n",
    "    mask_list = (\n",
    "        maskPhoton, \n",
    "        maskmisspt, \n",
    "        maskBjets, \n",
    "        maskLepTrig, \n",
    "        maskLepPT\n",
    "    )\n",
    "    merged_mask = mergeAndMasks(mask_list)\n",
    "\n",
    "    cutnum = countItem(merged_mask, True)\n",
    "    text= f\"[CUTTER] {name} Before cut: {len(events)} events, After cut: {cutnum} events\"\n",
    "    print(text)\n",
    "    return merged_mask\n",
    "\n",
    "# events = events[merged_mask]"
   ]
  },
  {
   "cell_type": "code",
   "execution_count": 5,
   "id": "6cf7832c",
   "metadata": {},
   "outputs": [],
   "source": [
    "def saveAsNPY(result, filename):\n",
    "    \"\"\"\n",
    "    Save the result as a numpy file.\n",
    "    \"\"\"\n",
    "    np.save(filename, ak.to_numpy(result))\n",
    "    print(f\"Events saved to {filename}\")"
   ]
  },
  {
   "cell_type": "code",
   "execution_count": null,
   "id": "3b4990ff",
   "metadata": {},
   "outputs": [],
   "source": [
    "def analyzeEvents(events, mask, cut_name=\"default\", path=\"\"):\n",
    "    ## Analyze events and return results\n",
    "    print(f\"[ANALYZE] Analyzing events with cut: {cut_name}\")\n",
    "    \n",
    "    # 应用掩码\n",
    "    events_cut = events[mask]\n",
    "    n_events = len(events_cut)\n",
    "    \n",
    "    if n_events == 0:\n",
    "        print(f\"[WARNING] No events pass the cut: {cut_name}\")\n",
    "        return None\n",
    "    \n",
    "    # 计算各种物理量\n",
    "    w_mass = getWMass(events_cut)\n",
    "    bbMass = getBBmass(events_cut)\n",
    "    bbaMass = getBBAmass(events_cut)\n",
    "    njet = getNjet(events_cut)\n",
    "    dB_delta_r, dB_delta_eta, dB_delta_phi = getDBjetDeltaSet(events_cut)\n",
    "    bP_delta_r = getHiggsPhotonDeltaR(events_cut)\n",
    "    photon_energy = getPhotonEnergy(events_cut, return_type='leading')\n",
    "    \n",
    "    print(f\"[ANALYZE] Analyzed {n_events} events with cut: {cut_name} Done\")\n",
    "    \n",
    "    result = {\n",
    "        \"W_mass\": w_mass,\n",
    "        \"BB_mass\": bbMass,\n",
    "        \"BBA_mass\": bbaMass,\n",
    "        \"Njet\": njet,\n",
    "        \"dB_delta_r\": dB_delta_r,\n",
    "        \"dB_delta_eta\": dB_delta_eta,\n",
    "        \"dB_delta_phi\": dB_delta_phi,\n",
    "        \"bP_delta_r\": bP_delta_r,\n",
    "        \"photon_energy\": photon_energy\n",
    "    }\n",
    "    \n",
    "    # DataFrame\n",
    "    df = saveResultsEBE(result, cut_name=cut_name, path=path)\n",
    "    return result\n",
    "\n",
    "def saveResultsEBE(result, cut_name=\"default\", path=\"\"):\n",
    "    \"\"\"将结果保存为 Pandas DataFrame\"\"\"\n",
    "\n",
    "    \n",
    "    print(f\"[SAVE] Converting results to DataFrame...\")\n",
    "\n",
    "    df_data = {}\n",
    "    for key, value in result.items():\n",
    "        try:\n",
    "            if hasattr(value, 'to_numpy'):\n",
    "                np_array = ak.to_numpy(value, allow_missing=True)\n",
    "            else:\n",
    "                np_array = np.asarray(value)\n",
    "            if np_array.ndim > 1:\n",
    "                np_array = np_array.flatten()\n",
    "            df_data[key] = np_array\n",
    "            \n",
    "        except Exception as e:\n",
    "            print(f\"[WARNING] Could not convert {key}: {e}\")\n",
    "            continue\n",
    "    \n",
    "    # DataFrame\n",
    "    df = pd.DataFrame(df_data)\n",
    "    if path:\n",
    "        os.makedirs(path, exist_ok=True)\n",
    "        filename = os.path.join(path, f\"analysis_{cut_name}.parquet\")\n",
    "    else:\n",
    "        filename = f\"analysis_{cut_name}.parquet\"\n",
    "    \n",
    "    df.to_parquet(filename)\n",
    "    print(f\"[SAVE] DataFrame saved to: {filename}\")\n",
    "    print(f\"[SAVE] Shape: {df.shape}, Columns: {list(df.columns)}\")\n",
    "    \n",
    "    return df\n"
   ]
  },
  {
   "cell_type": "code",
   "execution_count": null,
   "id": "43338096",
   "metadata": {},
   "outputs": [],
   "source": [
    "event_btag = ak.sum(events[\"Jet\"].BTag, axis=1)\n"
   ]
  },
  {
   "cell_type": "code",
   "execution_count": null,
   "id": "4b24a73a",
   "metadata": {},
   "outputs": [
    {
     "data": {
      "text/plain": [
       "(0.0, 5.0)"
      ]
     },
     "execution_count": 157,
     "metadata": {},
     "output_type": "execute_result"
    },
    {
     "data": {
      "image/png": "[encoded data removed]",
      "text/plain": [
       "<Figure size 1000x600 with 1 Axes>"
      ]
     },
     "metadata": {},
     "output_type": "display_data"
    }
   ],
   "source": [
    "import mplhep as hep\n",
    "\n",
    "plt.style.use(hep.style.CMS)\n",
    "plt.figure(figsize=(10, 6))\n",
    "plt.hist(event_btag, bins=10, range=(0, 10), histtype='step', label='BTag Count') \n",
    "plt.hist(event_btag, bins=10, range=(0, 10), color='blue', alpha=0.1)\n",
    "plt.xlabel('Number of BTags/Event')\n",
    "plt.legend()\n",
    "plt.xlim(0, 5)\n"
   ]
  },
  {
   "cell_type": "code",
   "execution_count": null,
   "id": "fb9a5ddf",
   "metadata": {},
   "outputs": [
    {
     "name": "stdout",
     "output_type": "stream",
     "text": [
      "Before cut: 1000 events, After cut: 49 events\n"
     ]
    }
   ],
   "source": [
    "maskmisspt = missptOverCut(events, 30)\n",
    "maskBjets = containBjet(events, 1)\n",
    "maskLepTrig = leptonTrigger(events)\n",
    "\n",
    "maskElec = tightElectron(events, 30)\n",
    "maskMuon = tightMuon(events, 26)\n",
    "maskLepPT = mergeOrMasks(maskElec, maskMuon)\n",
    "maskPhoton = goodPhoton(events)\n",
    "merged_mask = mergeAndMasks(maskmisspt, maskBjets, maskLepTrig, maskPhoton)\n",
    "\n",
    "cutnum = countItem(merged_mask, True)\n",
    "text= f\"Before cut: {len(events)} events, After cut: {len(events[merged_mask])} events\"\n",
    "print(text)"
   ]
  },
  {
   "cell_type": "code",
   "execution_count": null,
   "id": "c60a4aba",
   "metadata": {},
   "outputs": [
    {
     "name": "stdout",
     "output_type": "stream",
     "text": [
      "[CUTTER] Before cut: 1000 events, After cut: 141 events\n"
     ]
    }
   ],
   "source": [
    "event_cut_mask = eventCut(events)\n",
    "events_cut = events[event_cut_mask]\n",
    "W_mass = getWMass(events_cut)\n",
    "bb_mass = getBBmass(events_cut)\n",
    "bb_deltaR = getDBjetDeltaR(events_cut)\n",
    "# print(bb_mass)\n",
    "# bjetmask = events_cut[\"Jet\"].BTag == 1 \n",
    "# print(bjetmask)\n",
    "# using slicing\n",
    "# first_bjet_pt = events_cut[\"Jet\"].PT[bjetmask][:, 0]\n",
    "# print(first_bjet_pt)\n",
    "\n",
    "\n",
    "# saveAsNPY(bb_mass, \"bb_mass.npy\")\n"
   ]
  },
  {
   "cell_type": "code",
   "execution_count": null,
   "id": "a6990e2d",
   "metadata": {},
   "outputs": [],
   "source": [
    "# bb_mass = np.load(\"bb_mass.npy\")"
   ]
  },
  {
   "cell_type": "code",
   "execution_count": null,
   "id": "0b0a51c3",
   "metadata": {},
   "outputs": [
    {
     "data": {
      "text/plain": [
       "Text(1, 0, '$M_{b\\\\bar{b}\\\\gamma}$ (GeV)')"
      ]
     },
     "execution_count": 165,
     "metadata": {},
     "output_type": "execute_result"
    },
    {
     "data": {
      "image/png": "[encoded data removed]",
      "text/plain": [
       "<Figure size 1000x1000 with 1 Axes>"
      ]
     },
     "metadata": {},
     "output_type": "display_data"
    }
   ],
   "source": [
    "plt.hist(bb_deltaR, bins=50, range=(0, 1), label='bb mass', histtype='step', color='blue', alpha=0.7)\n",
    "plt.xlabel('$M_{b\\\\bar{b}\\gamma}$ (GeV)')"
   ]
  },
  {
   "cell_type": "code",
   "execution_count": null,
   "id": "a9835fed",
   "metadata": {},
   "outputs": [
    {
     "data": {
      "text/plain": [
       "(array([ 5.,  4.,  1.,  2.,  5.,  2.,  4.,  5.,  2.,  0.,  7.,  4.,  1.,\n",
       "         5.,  3.,  9.,  5., 10., 15.,  3., 10.,  7.,  4.,  2.,  3.,  2.,\n",
       "         3.,  3.,  2.,  1.,  2.,  1.,  3.,  0.,  1.,  0.,  0.,  0.,  0.,\n",
       "         0.,  1.,  0.,  0.,  0.,  1.,  0.,  0.,  0.,  0.,  0.]),\n",
       " array([  0.,   4.,   8.,  12.,  16.,  20.,  24.,  28.,  32.,  36.,  40.,\n",
       "         44.,  48.,  52.,  56.,  60.,  64.,  68.,  72.,  76.,  80.,  84.,\n",
       "         88.,  92.,  96., 100., 104., 108., 112., 116., 120., 124., 128.,\n",
       "        132., 136., 140., 144., 148., 152., 156., 160., 164., 168., 172.,\n",
       "        176., 180., 184., 188., 192., 196., 200.]),\n",
       " [<matplotlib.patches.Polygon at 0x7f21d0e39c40>])"
      ]
     },
     "execution_count": 163,
     "metadata": {},
     "output_type": "execute_result"
    },
    {
     "data": {
      "image/png": "[encoded data removed]",
      "text/plain": [
       "<Figure size 1000x1000 with 1 Axes>"
      ]
     },
     "metadata": {},
     "output_type": "display_data"
    }
   ],
   "source": [
    "plt.hist(W_mass, bins=50, range=(0, 200), histtype='step', label='W Mass Distribution')"
   ]
  },
  {
   "cell_type": "code",
   "execution_count": null,
   "id": "97292f14",
   "metadata": {},
   "outputs": [],
   "source": [
    "\n",
    "# Btag = events[\"Jet\"].BTag\n",
    "# print(Btag)\n",
    "# print(\"Btag length:\", len(Btag))\n",
    "# for i in Btag:\n",
    "#     print(i)\n",
    "#     count_ones = countItem(i, 1)\n",
    "#     print(f\"Number of elements equal to 1: {count_ones}\")"
   ]
  }
 ],
 "metadata": {
  "kernelspec": {
   "display_name": "oldcoffeaenv",
   "language": "python",
   "name": "python3"
  },
  "language_info": {
   "codemirror_mode": {
    "name": "ipython",
    "version": 3
   },
   "file_extension": ".py",
   "mimetype": "text/x-python",
   "name": "python",
   "nbconvert_exporter": "python",
   "pygments_lexer": "ipython3",
   "version": "3.9.20"
  }
 },
 "nbformat": 4,
 "nbformat_minor": 5
}
