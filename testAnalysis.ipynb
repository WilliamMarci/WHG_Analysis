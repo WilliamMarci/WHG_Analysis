{
 "cells": [
  {
   "cell_type": "code",
   "execution_count": 1,
   "id": "33a4439e",
   "metadata": {},
   "outputs": [],
   "source": [
    "import uproot\n",
    "import numpy as np\n",
    "import matplotlib.pyplot as plt\n",
    "# import coffea\n",
    "import awkward as ak\n",
    "from coffea.nanoevents import NanoEventsFactory, NanoAODSchema, DelphesSchema"
   ]
  },
  {
   "cell_type": "code",
   "execution_count": 2,
   "id": "96351349",
   "metadata": {},
   "outputs": [],
   "source": [
    "import vector\n",
    "def packVector3D(pt,phi,eta):\n",
    "    vec3d = ak.Array(\n",
    "        {\n",
    "            \"rho\": pt,\n",
    "            \"phi\": phi,\n",
    "            \"eta\": eta,\n",
    "        },\n",
    "        with_name=\"Vector3D\"\n",
    "    )\n",
    "    return vec3d"
   ]
  },
  {
   "cell_type": "code",
   "execution_count": 4,
   "id": "b93862b2",
   "metadata": {},
   "outputs": [],
   "source": [
    "events = NanoEventsFactory.from_root(\n",
    "    # \"whgbkg1_p.root\",\n",
    "    \"btest.root\",\n",
    "    # \"whg_lo_pp_vlh_decay_dd.root\",\n",
    "    schemaclass=DelphesSchema,\n",
    "    treepath=\"Delphes\",\n",
    ").events()\n",
    "eve_dic={}\n",
    "for branch in events.fields:\n",
    "    eve_dic[branch] = events[branch]\n",
    "eve_ak = ak.Array(eve_dic)\n",
    "def readDelphes(name):\n",
    "    events = NanoEventsFactory.from_root(\n",
    "        name,\n",
    "        schemaclass=DelphesSchema,\n",
    "        treepath=\"Delphes\",\n",
    "    ).events()\n",
    "    return events"
   ]
  },
  {
   "cell_type": "code",
   "execution_count": 6,
   "id": "2e2f9ed7",
   "metadata": {},
   "outputs": [],
   "source": [
    "flavor=events[\"Jet\"].Flavor"
   ]
  },
  {
   "cell_type": "code",
   "execution_count": 7,
   "id": "fab19f41",
   "metadata": {},
   "outputs": [
    {
     "name": "stdout",
     "output_type": "stream",
     "text": [
      "有效事件的 photon-electron delta_r:\n",
      "[[2.33], [1.68], [0.991], [1.89], [1.47], ... [2.29], [2.9], [1.53], [2.98], [0.831]]\n"
     ]
    }
   ],
   "source": [
    "Photon = ak.copy(events.Photon)\n",
    "Electron = ak.copy(events.Electron)\n",
    "# 确保两个数组都不为空\n",
    "has_photon = ak.num(Photon, axis=1) > 0\n",
    "has_electron = ak.num(Electron, axis=1) > 0\n",
    "has_both = has_photon & has_electron\n",
    "\n",
    "# 只对有 photon 和 electron 的事件计算\n",
    "photon_with_both = Photon[has_both]\n",
    "electron_with_both = Electron[has_both]\n",
    "\n",
    "if ak.sum(has_both) > 0:\n",
    "    photon_electron_pairs = ak.cartesian([photon_with_both, electron_with_both], axis=1)\n",
    "    delta_r_result = photon_electron_pairs['0'].delta_r(photon_electron_pairs['1'])\n",
    "    print(\"有效事件的 photon-electron delta_r:\")\n",
    "    print(delta_r_result)\n",
    "else:\n",
    "    print(\"没有同时包含 photon 和 electron 的事件\")\n"
   ]
  },
  {
   "cell_type": "code",
   "execution_count": 8,
   "id": "9c75ba91",
   "metadata": {},
   "outputs": [
    {
     "name": "stdout",
     "output_type": "stream",
     "text": [
      "[[5, 4, 5, 2, 3, 21], [21, 5, 1, 4, 2, 5, ... 1, 2, 1, 2, 0, 21], [0, 5, 0, 4, 0, 3]]\n"
     ]
    }
   ],
   "source": [
    "print(flavor)"
   ]
  },
  {
   "cell_type": "code",
   "execution_count": 9,
   "id": "9f90100b",
   "metadata": {},
   "outputs": [],
   "source": [
    "btag= events[\"Jet\"].BTag"
   ]
  },
  {
   "cell_type": "code",
   "execution_count": 10,
   "id": "a6010fad",
   "metadata": {},
   "outputs": [
    {
     "name": "stdout",
     "output_type": "stream",
     "text": [
      "btag [[0, 0, 0, 0, 0, 0], [0, 0, 0, 0, 0, 0], ... 0, 0, 0, 0, 0, 0], [0, 0, 0, 0, 0, 0]]\n",
      "0\n"
     ]
    },
    {
     "data": {
      "text/plain": [
       "int"
      ]
     },
     "execution_count": 10,
     "metadata": {},
     "output_type": "execute_result"
    }
   ],
   "source": [
    "print(\"btag\",btag & 2)\n",
    "print(ak.sum(btag>1))\n",
    "type(btag[1][1])"
   ]
  },
  {
   "cell_type": "code",
   "execution_count": 11,
   "id": "b313e867",
   "metadata": {},
   "outputs": [
    {
     "name": "stdout",
     "output_type": "stream",
     "text": [
      "[[0, 0, 0, 0, 0, 0], [0, 0, 0, 0, 0, 0], ... 0, 0, 0, 0, 0, 0], [0, 0, 0, 0, 0, 0]]\n"
     ]
    }
   ],
   "source": [
    "print((btag>>4)&1)"
   ]
  },
  {
   "cell_type": "code",
   "execution_count": 56,
   "id": "13317493",
   "metadata": {},
   "outputs": [
    {
     "data": {
      "text/plain": [
       "['FatJet.offsets',\n",
       " 'FatJet',\n",
       " 'Event.offsets',\n",
       " 'Event',\n",
       " 'MissingET.offsets',\n",
       " 'MissingET',\n",
       " 'EFlowTrack.offsets',\n",
       " 'EFlowTrack',\n",
       " 'GenJet.offsets',\n",
       " 'GenJet',\n",
       " 'EFlowNeutralHadron.offsets',\n",
       " 'EFlowNeutralHadron',\n",
       " 'Jet.offsets',\n",
       " 'Jet',\n",
       " 'Weight.offsets',\n",
       " 'Weight',\n",
       " 'Tower.offsets',\n",
       " 'Tower',\n",
       " 'Track.offsets',\n",
       " 'Track',\n",
       " 'EFlowPhoton.offsets',\n",
       " 'EFlowPhoton',\n",
       " 'Electron.offsets',\n",
       " 'Electron',\n",
       " 'Muon.offsets',\n",
       " 'Muon',\n",
       " 'Photon.offsets',\n",
       " 'Photon',\n",
       " 'Particle.offsets',\n",
       " 'Particle',\n",
       " 'GenMissingET.offsets',\n",
       " 'GenMissingET',\n",
       " 'ScalarHT.offsets',\n",
       " 'ScalarHT']"
      ]
     },
     "execution_count": 56,
     "metadata": {},
     "output_type": "execute_result"
    }
   ],
   "source": [
    "events.fields"
   ]
  },
  {
   "cell_type": "markdown",
   "id": "70d3a413",
   "metadata": {},
   "source": [
    "some function usage examples"
   ]
  },
  {
   "cell_type": "code",
   "execution_count": 55,
   "id": "a6943550",
   "metadata": {},
   "outputs": [
    {
     "name": "stdout",
     "output_type": "stream",
     "text": [
      "Enhanced mask functions loaded successfully!\n"
     ]
    }
   ],
   "source": [
    "def countItem(arr, item):\n",
    "    count = 0\n",
    "    for i in arr:\n",
    "        if i == item:\n",
    "            count += 1\n",
    "    return count\n",
    "import awkward as ak\n",
    "\n",
    "def mergeAndMasks(*masks):\n",
    "    \"\"\"Merge multiple awkward boolean masks with logical AND.\"\"\"\n",
    "    if len(masks) == 0:\n",
    "        raise ValueError(\"At least one mask is required\")\n",
    "    \n",
    "    merged_mask = masks[0]\n",
    "    for mask in masks[1:]:\n",
    "        merged_mask = merged_mask & mask\n",
    "    return merged_mask\n",
    "\n",
    "def mergeOrMasks(*masks):\n",
    "    \"\"\"OR-combine boolean masks.\"\"\"\n",
    "    if len(masks) == 0:\n",
    "        raise ValueError(\"At least one mask is required\")\n",
    "    \n",
    "    merged_mask = masks[0]\n",
    "    for mask in masks[1:]:\n",
    "        merged_mask = merged_mask | mask  # Use | instead of 'or' for element-wise operation\n",
    "    return merged_mask\n",
    "\n",
    "def mergeXorMasks(mask1, mask2):\n",
    "    \"\"\"\n",
    "    Merge two boolean masks using logical XOR operation.\n",
    "    Result is True when exactly one of the masks is True.\n",
    "    \n",
    "    Args:\n",
    "        mask1: First boolean awkward array\n",
    "        mask2: Second boolean awkward array\n",
    "        \n",
    "    Returns:\n",
    "        awkward array: Combined mask using XOR operation\n",
    "    \"\"\"\n",
    "    merged_mask = mask1 ^ mask2\n",
    "    return merged_mask\n",
    "\n",
    "# Additional utility functions for mask operations\n",
    "def mergeNotMask(mask):\n",
    "    \"\"\"Invert a boolean mask.\"\"\"\n",
    "    return ~mask\n",
    "\n",
    "def countPassingEvents(mask):\n",
    "    \"\"\"Count True entries in a mask.\"\"\"\n",
    "    return ak.sum(mask==True)\n",
    "\n",
    "def getEfficiency(mask, total_events=None):\n",
    "    \"\"\"Compute mask efficiency (passing/total).\"\"\"\n",
    "    passing = ak.sum(mask==True)\n",
    "    total = total_events if total_events is not None else len(mask)\n",
    "    return float(passing) / float(total)\n",
    "\n",
    "def combineMasks(masks_dict, operation='and'):\n",
    "    \"\"\"Combine named masks with AND/OR.\"\"\"\n",
    "    mask_list = list(masks_dict.values())\n",
    "    op = operation.lower()\n",
    "    if op == 'and':\n",
    "        return mergeAndMasks(*mask_list)\n",
    "    elif op == 'or':\n",
    "        return mergeOrMasks(*mask_list)\n",
    "    else:\n",
    "        raise ValueError(\"Operation must be 'and' or 'or'\")\n",
    "\n",
    "print(\"Enhanced mask functions loaded successfully!\")"
   ]
  },
  {
   "cell_type": "markdown",
   "id": "5d510bd5",
   "metadata": {},
   "source": [
    "Cuts define:"
   ]
  },
  {
   "cell_type": "code",
   "execution_count": 112,
   "id": "f18c46a2",
   "metadata": {},
   "outputs": [],
   "source": [
    "def goodLepton(events, pt_cut=10.0, eta_cut=2.5):\n",
    "    \"\"\"\n",
    "    安全的轻子选择，只使用基本动力学变量\n",
    "    \"\"\"\n",
    "    # good_electron_mask = ak.zeros_like(events.event, dtype=bool)\n",
    "    # good_muon_mask = ak.zeros_like(events.event, dtype=bool)\n",
    "    \n",
    "    # 安全处理电子\n",
    "    if \"Electron\" in events.fields:\n",
    "        try:\n",
    "            electron_count = ak.num(events.Electron, axis=1)\n",
    "            if ak.max(electron_count) > 0:\n",
    "                e_pt = events.Electron.PT\n",
    "                e_eta = events.Electron.Eta\n",
    "                \n",
    "                e_cuts = (e_pt > pt_cut) & (np.abs(e_eta) < eta_cut)\n",
    "                good_electron_mask = e_cuts\n",
    "                print(f\"Processed {ak.sum(electron_count)} electrons successfully\")\n",
    "        except Exception as e:\n",
    "            print(f\"Skipping electrons due to error: {e}\")\n",
    "    \n",
    "    # 安全处理缪子\n",
    "    if \"Muon\" in events.fields:\n",
    "        try:\n",
    "            muon_count = ak.num(events.Muon, axis=1)\n",
    "            if ak.max(muon_count) > 0:\n",
    "                mu_pt = events.Muon.PT\n",
    "                mu_eta = events.Muon.Eta\n",
    "                \n",
    "                mu_cuts = (mu_pt > pt_cut) & (np.abs(mu_eta) < eta_cut)\n",
    "                good_muon_mask = mu_cuts\n",
    "                print(f\"Processed {ak.sum(muon_count)} muons successfully\")\n",
    "        except Exception as e:\n",
    "            print(f\"Skipping muons due to error: {e}\")\n",
    "    \n",
    "    return good_electron_mask, good_muon_mask\n",
    "\n",
    "def goodPhoton(events, pt_cut=10.0, eta_cut=2.5):\n",
    "    \"\"\" select Photon with |eta| < etacut(2.5) and PT > ptcut(10.0) \"\"\"\n",
    "    Photon = ak.copy(events.Photon)\n",
    "    exist_mask = ak.num(Photon, axis=1) > 0\n",
    "    ptcut = Photon.PT > pt_cut           # PT > 10 GeV\n",
    "    etacut = np.abs(Photon.Eta) < eta_cut  # |eta| < 2.5\n",
    "    good_photon_cut = ptcut & etacut\n",
    "    has_good_photon = ak.any(good_photon_cut, axis=1)\n",
    "    mask = exist_mask & has_good_photon\n",
    "    return mask"
   ]
  },
  {
   "cell_type": "code",
   "execution_count": 120,
   "id": "08bf5390",
   "metadata": {},
   "outputs": [
    {
     "name": "stdout",
     "output_type": "stream",
     "text": [
      "Processed 136 electrons successfully\n",
      "Processed 131 muons successfully\n",
      "Good Electron mask: [[], [], [], [], [], [], [], [], [], [], ... [], [], [], [], [], [], [], [], [], []]\n",
      "Good Muon mask: [[], [], [], [], [True], [True], [], [], ... [], [], [], [True], [], [], [], []]\n",
      "Good Photon mask: [False, False, True, True, False, True, ... True, False, False, True, True, True]\n"
     ]
    }
   ],
   "source": [
    "goodElectron, goodMuon = goodLepton(events,pt_cut=0.0, eta_cut=1)\n",
    "goodPhotonMask = goodPhoton(events)\n",
    "print(\"Good Electron mask:\", goodElectron)\n",
    "print(\"Good Muon mask:\", goodMuon)\n",
    "print(\"Good Photon mask:\", goodPhotonMask)\n",
    "# plt.hist(ak.sum(goodElectron==True, axis=1))"
   ]
  },
  {
   "cell_type": "code",
   "execution_count": 109,
   "metadata": {},
   "outputs": [
    {
     "name": "stdout",
     "output_type": "stream",
     "text": [
      "Functions loaded successfully\n"
     ]
    }
   ],
   "source": [
    "def missptOverCut(events, cut):\n",
    "    # Check if MissingET.MET is greater than threshold\n",
    "    mask = events[\"MissingET\"].MET > cut\n",
    "    return mask\n",
    "\n",
    "def containBjet(events, num):\n",
    "    #Check if events contain exactly the specified number of b-tagged jets\n",
    "    Btag = events[\"Jet\"].BTag\n",
    "    btag_count = ak.sum(Btag == 1, axis=1)\n",
    "    mask = btag_count == num\n",
    "    return mask\n",
    "\n",
    "def countElectron(events):\n",
    "    #Count the number of electrons in each event (both positive and negative charges)\n",
    "    # Use ak.num to directly count electrons in each event\n",
    "    electron_count = ak.num(events[\"Electron\"], axis=1)\n",
    "    return electron_count\n",
    "\n",
    "def countMuon(events):\n",
    "    #Count the number of muons in each event (both positive and negative charges)\n",
    "    # Use ak.num to directly count muons in each event\n",
    "    muon_count = ak.num(events[\"Muon\"], axis=1)\n",
    "    return muon_count\n",
    "\n",
    "def leptonTrigger(events):\n",
    "    #Check if events have exactly 1 lepton (electron + muon total = 1)\n",
    "    electron_count = ak.num(events[\"Electron\"], axis=1)\n",
    "    muon_count = ak.num(events[\"Muon\"], axis=1)\n",
    "    total_lepton_count = electron_count + muon_count\n",
    "    mask = total_lepton_count == 1\n",
    "    return mask\n",
    "\n",
    "def singleLeptonTrigger(events):\n",
    "    # Check if events have exactly 1 good lepton (electron or muon)\n",
    "    good_electron_mask, good_muon_mask = goodLepton(events)\n",
    "    good_electron_count = ak.sum(good_electron_mask, axis=1)\n",
    "    good_muon_count = ak.sum(good_muon_mask, axis=1)\n",
    "    total_good_lepton_count = good_electron_count + good_muon_count\n",
    "    mask = total_good_lepton_count == 1\n",
    "    return mask\n",
    "\n",
    "def tightElectron(events, cut):\n",
    "    #Check if events have exactly 1 electron with PT > cut\n",
    "    electron_pt = events[\"Electron\"].PT\n",
    "    # Count electrons with PT > cut in each event\n",
    "    tight_electron_count = ak.sum(electron_pt > cut, axis=1)\n",
    "    mask = tight_electron_count == 1\n",
    "    return mask\n",
    "\n",
    "def tightMuon(events, cut):\n",
    "    # Check if events have exactly 1 muon with PT > cut\n",
    "    muon_pt = events[\"Muon\"].PT\n",
    "    # Count muons with PT > cut in each event\n",
    "    tight_muon_count = ak.sum(muon_pt > cut, axis=1)\n",
    "    mask = tight_muon_count == 1\n",
    "    return mask\n",
    "\n",
    "print(\"Functions loaded successfully\")\n"
   ]
  },
  {
   "cell_type": "code",
   "execution_count": 110,
   "id": "f6c35b4a",
   "metadata": {},
   "outputs": [
    {
     "name": "stdout",
     "output_type": "stream",
     "text": [
      "Processed 136 electrons successfully\n",
      "Processed 131 muons successfully\n",
      "Single lepton trigger mask: [False, False, False, False, True, True, ... False, True, False, False, False, False]\n"
     ]
    }
   ],
   "source": [
    "mask_signleLepton = singleLeptonTrigger(events)\n",
    "print(\"Single lepton trigger mask:\", mask_signleLepton)"
   ]
  },
  {
   "cell_type": "code",
   "execution_count": 16,
   "id": "84d5c849",
   "metadata": {},
   "outputs": [],
   "source": [
    "# btag=events['Jet'].BTag\n",
    "# ak.num(btag, axis=1)\n",
    "# local_index = ak.local_index(btag)\n",
    "# combination"
   ]
  },
  {
   "cell_type": "markdown",
   "id": "e4eb2079",
   "metadata": {},
   "source": [
    "cut Events"
   ]
  },
  {
   "cell_type": "code",
   "execution_count": 48,
   "id": "18232a19",
   "metadata": {},
   "outputs": [],
   "source": [
    "\n",
    "def eventCut(events):\n",
    "    maskmisspt = missptOverCut(events, 30)\n",
    "    maskBjets = containBjet(events, 1)\n",
    "    maskLepTrig = leptonTrigger(events)\n",
    "    \n",
    "    maskElec = tightElectron(events, 30)\n",
    "    maskMuon = tightMuon(events, 26)\n",
    "    maskLepPT = mergeOrMasks(maskElec, maskMuon)\n",
    "    merged_mask = mergeAndMasks(maskmisspt, maskBjets, maskLepTrig)\n",
    "    \n",
    "    cutnum = countItem(merged_mask, True)\n",
    "    text= f\"Before cut: {len(events)} events, After cut: {len(events[merged_mask])} events\"\n",
    "    print(text)\n",
    "    return merged_mask\n",
    "\n",
    "# events = events[merged_mask]"
   ]
  },
  {
   "cell_type": "code",
   "execution_count": 18,
   "id": "2c0d7fc3",
   "metadata": {},
   "outputs": [],
   "source": [
    "def getWMass(events):\n",
    "    missMET = events[\"MissingET\"].MET\n",
    "    missPhi = events[\"MissingET\"].Phi\n",
    "    ###\n",
    "    # because we has limit lepton == 1, we just sum lepton PT and phi\n",
    "    ###\n",
    "    leptonPT = ak.sum(events[\"Electron\"].PT, axis=1) + ak.sum(events[\"Muon\"].PT, axis=1)\n",
    "    leptonPhi = ak.sum(events[\"Electron\"].Phi, axis=1) + ak.sum(events[\"Muon\"].Phi, axis=1)\n",
    "    ###\n",
    "    # Reconstruct the transverse mass of W boson\n",
    "    ###\n",
    "    W_mass = np.sqrt(2 * leptonPT * missMET * (1 - np.cos(leptonPhi - missPhi)))\n",
    "    return W_mass\n",
    "\n",
    "def getBBmass(events):\n",
    "    # 选出 b-jets\n",
    "    bjets = events[\"Jet\"][events[\"Jet\"].BTag == 1]\n",
    "    # 按 PT 降序排列\n",
    "    bjets = bjets[ak.argsort(bjets.PT, axis=1, ascending=False)]\n",
    "    # 取前两个 bjets\n",
    "    leading2 = bjets[:, :2]\n",
    "    # 计算四矢量分量\n",
    "    px = leading2.PT * np.cos(leading2.Phi)\n",
    "    py = leading2.PT * np.sin(leading2.Phi)\n",
    "    pz = leading2.PT * np.sinh(leading2.Eta)\n",
    "    E  = np.sqrt(leading2.Mass**2 + px**2 + py**2 + pz**2)\n",
    "    # 合并成总四矢量\n",
    "    px_sum = ak.sum(px, axis=1)\n",
    "    py_sum = ak.sum(py, axis=1)\n",
    "    pz_sum = ak.sum(pz, axis=1)\n",
    "    E_sum  = ak.sum(E,  axis=1)\n",
    "    # 计算不变质量\n",
    "    mass2 = E_sum**2 - px_sum**2 - py_sum**2 - pz_sum**2\n",
    "    bbmass = np.sqrt(np.maximum(mass2, 0))  # 防止负数开根号\n",
    "    return bbmass\n",
    "    \n",
    "\n",
    "\n",
    "    # return bjet_mass\n",
    "def getNjet(events):\n",
    "    # get the number of jets in each event\n",
    "    njet = ak.num(events[\"Jet\"].BTag, axis=1)\n",
    "    return njet\n",
    "    "
   ]
  },
  {
   "cell_type": "code",
   "execution_count": 19,
   "id": "43338096",
   "metadata": {},
   "outputs": [],
   "source": [
    "event_btag = ak.sum(events[\"Jet\"].BTag, axis=1)\n"
   ]
  },
  {
   "cell_type": "code",
   "execution_count": 20,
   "id": "4b24a73a",
   "metadata": {},
   "outputs": [
    {
     "data": {
      "text/plain": [
       "(0.0, 5.0)"
      ]
     },
     "execution_count": 20,
     "metadata": {},
     "output_type": "execute_result"
    },
    {
     "data": {
      "image/png": "[encoded data removed]",
      "text/plain": [
       "<Figure size 1000x600 with 1 Axes>"
      ]
     },
     "metadata": {},
     "output_type": "display_data"
    }
   ],
   "source": [
    "import mplhep as hep\n",
    "\n",
    "plt.style.use(hep.style.CMS)\n",
    "plt.figure(figsize=(10, 6))\n",
    "plt.hist(event_btag, bins=10, range=(0, 10), histtype='step', label='BTag Count') \n",
    "plt.hist(event_btag, bins=10, range=(0, 10), color='blue', alpha=0.1)\n",
    "plt.xlabel('Number of BTags/Event')\n",
    "plt.legend()\n",
    "plt.xlim(0, 5)\n"
   ]
  },
  {
   "cell_type": "code",
   "execution_count": 46,
   "id": "fb9a5ddf",
   "metadata": {},
   "outputs": [
    {
     "name": "stdout",
     "output_type": "stream",
     "text": [
      "Before cut: 1000 events, After cut: 84 events\n"
     ]
    }
   ],
   "source": [
    "maskmisspt = missptOverCut(events, 30)\n",
    "maskBjets = containBjet(events, 1)\n",
    "maskLepTrig = leptonTrigger(events)\n",
    "\n",
    "maskElec = tightElectron(events, 30)\n",
    "maskMuon = tightMuon(events, 26)\n",
    "maskLepPT = mergeOrMasks(maskElec, maskMuon)\n",
    "merged_mask = mergeAndMasks(maskmisspt, maskBjets, maskLepTrig)\n",
    "\n",
    "cutnum = countItem(merged_mask, True)\n",
    "text= f\"Before cut: {len(events)} events, After cut: {len(events[merged_mask])} events\"\n",
    "print(text)"
   ]
  },
  {
   "cell_type": "code",
   "execution_count": 49,
   "id": "c60a4aba",
   "metadata": {},
   "outputs": [
    {
     "name": "stdout",
     "output_type": "stream",
     "text": [
      "Before cut: 1000 events, After cut: 84 events\n"
     ]
    }
   ],
   "source": [
    "event_cut_mask = eventCut(events)\n",
    "events_cut = events[event_cut_mask]\n",
    "W_mass = getWMass(events_cut)\n"
   ]
  },
  {
   "cell_type": "code",
   "execution_count": 50,
   "id": "c03d5f20",
   "metadata": {},
   "outputs": [
    {
     "name": "stdout",
     "output_type": "stream",
     "text": [
      "[17.5, 10.1, 10.4, 18.3, 9.47, 5, 7.94, ... 7.08, 10.9, 13, 7.86, 9.01, 12.3, 11.3]\n",
      "[[True, False, False, False, False], ... False, False, False, False, False, False]]\n",
      "[223, 55.6, 96.9, 88.3, 36.9, 24.5, 60.9, ... 31.9, 135, 103, 37, 65.2, 92.9, 124]\n",
      "Events saved to bb_mass.npy\n"
     ]
    }
   ],
   "source": [
    "bb_mass = getBBmass(events_cut)\n",
    "print(bb_mass)\n",
    "bjetmask = events_cut[\"Jet\"].BTag == 1 \n",
    "print(bjetmask)\n",
    "# using slicing\n",
    "first_bjet_pt = events_cut[\"Jet\"].PT[bjetmask][:, 0]\n",
    "print(first_bjet_pt)\n",
    "def saveAsNPY(events, filename):\n",
    "    \"\"\"\n",
    "    Save the events as a numpy file.\n",
    "    \"\"\"\n",
    "    np.save(filename, ak.to_numpy(events))\n",
    "    print(f\"Events saved to {filename}\")\n",
    "\n",
    "saveAsNPY(bb_mass, \"bb_mass.npy\")"
   ]
  },
  {
   "cell_type": "code",
   "execution_count": 51,
   "id": "a6990e2d",
   "metadata": {},
   "outputs": [],
   "source": [
    "bb_mass = np.load(\"bb_mass.npy\")"
   ]
  },
  {
   "cell_type": "code",
   "execution_count": 52,
   "id": "0b0a51c3",
   "metadata": {},
   "outputs": [
    {
     "data": {
      "text/plain": [
       "(array([ 0.,  1.,  2., 15., 16., 17.,  6.,  5.,  3.,  5.,  1.,  1.,  3.,\n",
       "         2.,  0.,  1.,  0.,  1.,  2.,  0.,  1.,  0.,  0.,  0.,  0.,  0.,\n",
       "         0.,  0.,  0.,  0.,  0.,  0.,  1.,  0.,  0.,  0.,  0.,  0.,  0.,\n",
       "         0.,  0.,  0.,  0.,  0.,  0.,  0.,  0.,  0.,  0.,  0.,  0.,  0.,\n",
       "         0.,  0.,  0.,  0.,  0.,  0.,  0.,  1.,  0.,  0.,  0.,  0.,  0.,\n",
       "         0.,  0.,  0.,  0.,  0.,  0.,  0.,  0.,  0.,  0.,  0.,  0.,  0.,\n",
       "         0.,  0.,  0.,  0.,  0.,  0.,  0.,  0.,  0.,  0.,  0.,  0.,  0.,\n",
       "         0.,  0.,  0.,  0.,  0.,  0.,  0.,  0.,  0.]),\n",
       " array([  0.,   2.,   4.,   6.,   8.,  10.,  12.,  14.,  16.,  18.,  20.,\n",
       "         22.,  24.,  26.,  28.,  30.,  32.,  34.,  36.,  38.,  40.,  42.,\n",
       "         44.,  46.,  48.,  50.,  52.,  54.,  56.,  58.,  60.,  62.,  64.,\n",
       "         66.,  68.,  70.,  72.,  74.,  76.,  78.,  80.,  82.,  84.,  86.,\n",
       "         88.,  90.,  92.,  94.,  96.,  98., 100., 102., 104., 106., 108.,\n",
       "        110., 112., 114., 116., 118., 120., 122., 124., 126., 128., 130.,\n",
       "        132., 134., 136., 138., 140., 142., 144., 146., 148., 150., 152.,\n",
       "        154., 156., 158., 160., 162., 164., 166., 168., 170., 172., 174.,\n",
       "        176., 178., 180., 182., 184., 186., 188., 190., 192., 194., 196.,\n",
       "        198., 200.]),\n",
       " <BarContainer object of 100 artists>)"
      ]
     },
     "execution_count": 52,
     "metadata": {},
     "output_type": "execute_result"
    },
    {
     "data": {
      "image/png": "[encoded data removed]",
      "text/plain": [
       "<Figure size 1000x1000 with 1 Axes>"
      ]
     },
     "metadata": {},
     "output_type": "display_data"
    }
   ],
   "source": [
    "plt.hist(bb_mass, bins=100, range=(0, 200), alpha=0.5, label='bb mass')"
   ]
  },
  {
   "cell_type": "code",
   "execution_count": 53,
   "id": "a9835fed",
   "metadata": {},
   "outputs": [
    {
     "data": {
      "text/plain": [
       "(array([2., 2., 0., 1., 2., 2., 2., 4., 0., 0., 6., 2., 1., 4., 1., 6., 3.,\n",
       "        6., 7., 2., 6., 5., 1., 2., 2., 2., 1., 2., 2., 1., 1., 1., 1., 0.,\n",
       "        0., 0., 0., 0., 0., 0., 0., 0., 0., 0., 1., 0., 0., 0., 0., 0.]),\n",
       " array([  0.,   4.,   8.,  12.,  16.,  20.,  24.,  28.,  32.,  36.,  40.,\n",
       "         44.,  48.,  52.,  56.,  60.,  64.,  68.,  72.,  76.,  80.,  84.,\n",
       "         88.,  92.,  96., 100., 104., 108., 112., 116., 120., 124., 128.,\n",
       "        132., 136., 140., 144., 148., 152., 156., 160., 164., 168., 172.,\n",
       "        176., 180., 184., 188., 192., 196., 200.]),\n",
       " [<matplotlib.patches.Polygon at 0x7f53f2247c40>])"
      ]
     },
     "execution_count": 53,
     "metadata": {},
     "output_type": "execute_result"
    },
    {
     "data": {
      "image/png": "[encoded data removed]",
      "text/plain": [
       "<Figure size 1000x1000 with 1 Axes>"
      ]
     },
     "metadata": {},
     "output_type": "display_data"
    }
   ],
   "source": [
    "plt.hist(W_mass, bins=50, range=(0, 200), histtype='step', label='W Mass Distribution')"
   ]
  },
  {
   "cell_type": "code",
   "execution_count": 54,
   "id": "97292f14",
   "metadata": {},
   "outputs": [],
   "source": [
    "\n",
    "# Btag = events[\"Jet\"].BTag\n",
    "# print(Btag)\n",
    "# print(\"Btag length:\", len(Btag))\n",
    "# for i in Btag:\n",
    "#     print(i)\n",
    "#     count_ones = countItem(i, 1)\n",
    "#     print(f\"Number of elements equal to 1: {count_ones}\")"
   ]
  }
 ],
 "metadata": {
  "kernelspec": {
   "display_name": "oldcoffeaenv",
   "language": "python",
   "name": "python3"
  },
  "language_info": {
   "codemirror_mode": {
    "name": "ipython",
    "version": 3
   },
   "file_extension": ".py",
   "mimetype": "text/x-python",
   "name": "python",
   "nbconvert_exporter": "python",
   "pygments_lexer": "ipython3",
   "version": "3.9.20"
  }
 },
 "nbformat": 4,
 "nbformat_minor": 5
}
